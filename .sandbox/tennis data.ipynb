{
 "cells": [
  {
   "cell_type": "code",
   "execution_count": 3,
   "metadata": {
    "collapsed": false
   },
   "outputs": [],
   "source": [
    "import xlrd"
   ]
  },
  {
   "cell_type": "code",
   "execution_count": 4,
   "metadata": {
    "collapsed": false
   },
   "outputs": [],
   "source": [
    "wb = xlrd.open_workbook(filename = '../tennis/data/2011.xls')"
   ]
  },
  {
   "cell_type": "code",
   "execution_count": 5,
   "metadata": {
    "collapsed": false
   },
   "outputs": [],
   "source": [
    "sheet = wb.sheet_by_name('2011')"
   ]
  },
  {
   "cell_type": "code",
   "execution_count": 6,
   "metadata": {
    "collapsed": false
   },
   "outputs": [],
   "source": [
    "row = sheet.row(1)\n",
    "ctypes = [cell.ctype for cell in row]"
   ]
  },
  {
   "cell_type": "code",
   "execution_count": 7,
   "metadata": {
    "collapsed": false
   },
   "outputs": [
    {
     "data": {
      "text/plain": [
       "datetime.datetime(2011, 1, 5, 0, 0)"
      ]
     },
     "execution_count": 7,
     "metadata": {},
     "output_type": "execute_result"
    }
   ],
   "source": [
    "xlrd.xldate.xldate_as_datetime(sheet.row(50)[3].value, wb.datemode)"
   ]
  },
  {
   "cell_type": "code",
   "execution_count": 9,
   "metadata": {
    "collapsed": false
   },
   "outputs": [
    {
     "ename": "SyntaxError",
     "evalue": "invalid syntax (<ipython-input-9-3ca911358f9c>, line 3)",
     "output_type": "error",
     "traceback": [
      "\u001b[0;36m  File \u001b[0;32m\"<ipython-input-9-3ca911358f9c>\"\u001b[0;36m, line \u001b[0;32m3\u001b[0m\n\u001b[0;31m    def\u001b[0m\n\u001b[0m        ^\u001b[0m\n\u001b[0;31mSyntaxError\u001b[0m\u001b[0;31m:\u001b[0m invalid syntax\n"
     ]
    }
   ],
   "source": [
    "    location = models.CharField(max_length=100)\n",
    "    name = models.CharField(max_length=100)\n",
    "    series = models.CharField(\n",
    "        max_length=20,\n",
    "        choices=SERIES_CHOICES.get_choices(),\n",
    "        default=SERIES.ATP250,\n",
    "    )\n",
    "    court = models.CharField(\n",
    "        max_length=20,\n",
    "        choices=COURT_CHOICES.get_choices(),\n",
    "    )\n",
    "    surface = models.CharField(\n",
    "        max_length=20,\n",
    "        choices=SURFACE_CHOICES.get_choices(),\n",
    "    )\n",
    "    men_max_nb_set = models.PositiveIntegerField()\n",
    "\n",
    "\n",
    "\n",
    "\n",
    "def tennis_extractor(stream):\n",
    "    header = next(stream)\n",
    "    for record in stream:\n",
    "        record = dict(zip(header, record))  # NOTE: not the most efficient \n",
    "        tournament_fields = {\n",
    "            \n",
    "        }\n",
    "        tournament, created = Tournament.objects.get_or_create(**tournament_fields)\n",
    "        match_fields = {\n",
    "            \n",
    "        }\n",
    "        tournament = Match.objects.get_or_create(**tournament_fields)\n",
    "\n",
    "def excel_data_stream(filename, sheet_name):\n",
    "    wb = open_workbook(filename)\n",
    "    sheet = wb.sheet_by_name(sheet_name)\n",
    "    for row_index in range(sheet.nrows):\n",
    "        yield sheet.row(row_index)\n",
    "\n",
    "    "
   ]
  },
  {
   "cell_type": "code",
   "execution_count": 71,
   "metadata": {
    "collapsed": false
   },
   "outputs": [
    {
     "ename": "ValueError",
     "evalue": "Type names and field names must be valid identifiers: 'bla bla'",
     "output_type": "error",
     "traceback": [
      "\u001b[0;31m---------------------------------------------------------------------------\u001b[0m",
      "\u001b[0;31mValueError\u001b[0m                                Traceback (most recent call last)",
      "\u001b[0;32m<ipython-input-71-3f387315f4af>\u001b[0m in \u001b[0;36m<module>\u001b[0;34m()\u001b[0m\n\u001b[0;32m----> 1\u001b[0;31m \u001b[0mTennisMatch\u001b[0m \u001b[0;34m=\u001b[0m \u001b[0mnamedtuple\u001b[0m\u001b[0;34m(\u001b[0m\u001b[0;34m'TennisMatch'\u001b[0m\u001b[0;34m,\u001b[0m \u001b[0;34m[\u001b[0m\u001b[0;34m'yo'\u001b[0m\u001b[0;34m,\u001b[0m \u001b[0;34m'yo_ya'\u001b[0m\u001b[0;34m,\u001b[0m \u001b[0;34m'bla bla'\u001b[0m\u001b[0;34m]\u001b[0m\u001b[0;34m)\u001b[0m\u001b[0;34m\u001b[0m\u001b[0m\n\u001b[0m",
      "\u001b[0;32m/home/nico/.virtualenvs/smartodds/lib/python3.5/collections/__init__.py\u001b[0m in \u001b[0;36mnamedtuple\u001b[0;34m(typename, field_names, verbose, rename)\u001b[0m\n\u001b[1;32m    398\u001b[0m         \u001b[0;32mif\u001b[0m \u001b[0;32mnot\u001b[0m \u001b[0mname\u001b[0m\u001b[0;34m.\u001b[0m\u001b[0misidentifier\u001b[0m\u001b[0;34m(\u001b[0m\u001b[0;34m)\u001b[0m\u001b[0;34m:\u001b[0m\u001b[0;34m\u001b[0m\u001b[0m\n\u001b[1;32m    399\u001b[0m             raise ValueError('Type names and field names must be valid '\n\u001b[0;32m--> 400\u001b[0;31m                              'identifiers: %r' % name)\n\u001b[0m\u001b[1;32m    401\u001b[0m         \u001b[0;32mif\u001b[0m \u001b[0m_iskeyword\u001b[0m\u001b[0;34m(\u001b[0m\u001b[0mname\u001b[0m\u001b[0;34m)\u001b[0m\u001b[0;34m:\u001b[0m\u001b[0;34m\u001b[0m\u001b[0m\n\u001b[1;32m    402\u001b[0m             raise ValueError('Type names and field names cannot be a '\n",
      "\u001b[0;31mValueError\u001b[0m: Type names and field names must be valid identifiers: 'bla bla'"
     ]
    }
   ],
   "source": [
    "TennisMatch = namedtuple('TennisMatch', ['yo', 'yo_ya', 'bla bla']) "
   ]
  },
  {
   "cell_type": "code",
   "execution_count": 21,
   "metadata": {
    "collapsed": true
   },
   "outputs": [],
   "source": [
    "m1 = TennisMatch(1,2,3,4,5,6,7,8)"
   ]
  },
  {
   "cell_type": "code",
   "execution_count": 69,
   "metadata": {
    "collapsed": false
   },
   "outputs": [
    {
     "data": {
      "text/plain": [
       "[2.0,\n",
       " 'Chennai',\n",
       " 'Chennai Open',\n",
       " 40548.0,\n",
       " 'ATP250',\n",
       " 'Outdoor',\n",
       " 'Hard',\n",
       " '2nd Round',\n",
       " 3.0,\n",
       " 'Phau B.',\n",
       " 'Gasquet R.',\n",
       " 102.0,\n",
       " 30.0,\n",
       " 551.0,\n",
       " 1385.0,\n",
       " 1.0,\n",
       " 6.0,\n",
       " 7.0,\n",
       " 6.0,\n",
       " 7.0,\n",
       " 6.0,\n",
       " '',\n",
       " '',\n",
       " '',\n",
       " '',\n",
       " 2.0,\n",
       " 1.0,\n",
       " 'Completed',\n",
       " 5.5,\n",
       " 1.12,\n",
       " 4.3,\n",
       " 1.2,\n",
       " 4.33,\n",
       " 1.2,\n",
       " 5.98,\n",
       " 1.17,\n",
       " 4.0,\n",
       " 1.2,\n",
       " 6.04,\n",
       " 1.2,\n",
       " 4.86,\n",
       " 1.17]"
      ]
     },
     "execution_count": 69,
     "metadata": {},
     "output_type": "execute_result"
    }
   ],
   "source": [
    "row = sheet.row(50)\n",
    "[cell.value for cell in row]"
   ]
  },
  {
   "cell_type": "code",
   "execution_count": 23,
   "metadata": {
    "collapsed": false
   },
   "outputs": [
    {
     "ename": "TypeError",
     "evalue": "tuple indices must be integers or slices, not str",
     "output_type": "error",
     "traceback": [
      "\u001b[0;31m---------------------------------------------------------------------------\u001b[0m",
      "\u001b[0;31mTypeError\u001b[0m                                 Traceback (most recent call last)",
      "\u001b[0;32m<ipython-input-23-5b9b728e9103>\u001b[0m in \u001b[0;36m<module>\u001b[0;34m()\u001b[0m\n\u001b[0;32m----> 1\u001b[0;31m \u001b[0mm1\u001b[0m\u001b[0;34m[\u001b[0m\u001b[0;34m'a'\u001b[0m\u001b[0;34m]\u001b[0m\u001b[0;34m\u001b[0m\u001b[0m\n\u001b[0m",
      "\u001b[0;31mTypeError\u001b[0m: tuple indices must be integers or slices, not str"
     ]
    }
   ],
   "source": [
    "m1['a']"
   ]
  },
  {
   "cell_type": "code",
   "execution_count": 24,
   "metadata": {
    "collapsed": false
   },
   "outputs": [
    {
     "data": {
      "text/plain": [
       "1"
      ]
     },
     "execution_count": 24,
     "metadata": {},
     "output_type": "execute_result"
    }
   ],
   "source": [
    "getattr(m1, 'a')"
   ]
  },
  {
   "cell_type": "code",
   "execution_count": 70,
   "metadata": {
    "collapsed": false
   },
   "outputs": [
    {
     "ename": "SyntaxError",
     "evalue": "invalid syntax (<ipython-input-70-28f20dfb6529>, line 2)",
     "output_type": "error",
     "traceback": [
      "\u001b[0;36m  File \u001b[0;32m\"<ipython-input-70-28f20dfb6529>\"\u001b[0;36m, line \u001b[0;32m2\u001b[0m\n\u001b[0;31m    location: 'Location',\u001b[0m\n\u001b[0m            ^\u001b[0m\n\u001b[0;31mSyntaxError\u001b[0m\u001b[0;31m:\u001b[0m invalid syntax\n"
     ]
    }
   ],
   "source": [
    "# Generic mapping solution\n",
    "\n",
    "tournment_mapping = dict(\n",
    "    location='Location',\n",
    "    name='Tournement',\n",
    "    series='series',\n",
    "    court='court',\n",
    "    surface='surface',\n",
    "    best_of='best of'\n",
    ")\n",
    "\n",
    "\n",
    "match_mapping = dict(\n",
    "    winner=('winner', find_or_create(table='player', field='name'))\n",
    "    loser=find_or_create('loser', table='player')\n"
   ]
  },
  {
   "cell_type": "code",
   "execution_count": null,
   "metadata": {
    "collapsed": true
   },
   "outputs": [],
   "source": []
  }
 ],
 "metadata": {
  "kernelspec": {
   "display_name": "Python 3",
   "language": "python",
   "name": "python3"
  },
  "language_info": {
   "codemirror_mode": {
    "name": "ipython",
    "version": 3
   },
   "file_extension": ".py",
   "mimetype": "text/x-python",
   "name": "python",
   "nbconvert_exporter": "python",
   "pygments_lexer": "ipython3",
   "version": "3.5.2"
  }
 },
 "nbformat": 4,
 "nbformat_minor": 1
}
